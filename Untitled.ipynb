{
 "cells": [
  {
   "cell_type": "code",
   "execution_count": 13,
   "metadata": {},
   "outputs": [],
   "source": [
    "import numpy as np"
   ]
  },
  {
   "cell_type": "code",
   "execution_count": 27,
   "metadata": {},
   "outputs": [],
   "source": [
    "class Pezz():\n",
    "    def __init__(self):\n",
    "        print(\"Base\")\n",
    "        \n",
    "class f1(Pezz):\n",
    "    def __init__(self):\n",
    "        super().__init__()\n",
    "        #self.sqrt = np.sqrt()\n",
    "        #self.exp = np.exp()\n",
    "        self.x = 1\n",
    "        self.y = 3\n",
    "        \n",
    "    def formward(self, x, y):\n",
    "        x = np.sqrt(x)\n",
    "        y = np.exp(y)\n",
    "        return x,y"
   ]
  },
  {
   "cell_type": "code",
   "execution_count": 28,
   "metadata": {},
   "outputs": [
    {
     "name": "stdout",
     "output_type": "stream",
     "text": [
      "Base\n"
     ]
    },
    {
     "data": {
      "text/plain": [
       "<__main__.f1 at 0x11d327b00>"
      ]
     },
     "execution_count": 28,
     "metadata": {},
     "output_type": "execute_result"
    }
   ],
   "source": [
    "f1()"
   ]
  },
  {
   "cell_type": "code",
   "execution_count": null,
   "metadata": {},
   "outputs": [],
   "source": []
  }
 ],
 "metadata": {
  "kernelspec": {
   "display_name": "Python 3",
   "language": "python",
   "name": "python3"
  },
  "language_info": {
   "codemirror_mode": {
    "name": "ipython",
    "version": 3
   },
   "file_extension": ".py",
   "mimetype": "text/x-python",
   "name": "python",
   "nbconvert_exporter": "python",
   "pygments_lexer": "ipython3",
   "version": "3.7.3"
  }
 },
 "nbformat": 4,
 "nbformat_minor": 2
}
