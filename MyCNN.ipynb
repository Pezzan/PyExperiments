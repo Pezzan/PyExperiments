{
 "cells": [
  {
   "cell_type": "code",
   "execution_count": 1,
   "metadata": {},
   "outputs": [],
   "source": [
    "import time\n",
    "import torch\n",
    "from torch import nn\n",
    "import torchvision\n",
    "import numpy as np\n",
    "import torchvision.transforms as transforms\n",
    "import torchvision.datasets as dset\n",
    "from IPython.display import display, clear_output\n",
    "from torch.autograd import Variable"
   ]
  },
  {
   "cell_type": "code",
   "execution_count": 2,
   "metadata": {},
   "outputs": [],
   "source": [
    "def status(batch_size, ep, epoch, i, loss, acc, data_loader):\n",
    "    # status\n",
    "    clear_output(wait=True)\n",
    "    print(str(ep) + '/' + str(epoch))\n",
    "    print('batch: ' + str(i+1) + '/' + str(len(data_loader)) + \n",
    "             ' [' + '='*int((i+1)/(len(data_loader)/20)) +\n",
    "              '>' + ' '*(20 - int((i+1)/(len(data_loader)/20))) +\n",
    "              ']')\n",
    "    print('Loss: %.4g   Accuracy: %.4g' % ((loss / ((i+1)*batch_size)),\n",
    "                                            (acc / ((i+1)*batch_size))))"
   ]
  },
  {
   "cell_type": "code",
   "execution_count": 3,
   "metadata": {},
   "outputs": [
    {
     "name": "stdout",
     "output_type": "stream",
     "text": [
      "\n",
      "------Initializing PezzGen------\n",
      "\n"
     ]
    }
   ],
   "source": [
    "class PezzGen(nn.Module):\n",
    "    def __init__(self):\n",
    "        super().__init__()\n",
    "        #self.dimIn = dimIn\n",
    "        #self.dimOut = dimOut\n",
    "        #self.filterNum = filterNum\n",
    "        #actFun = nn.LeakyReLU(0.2, inplace=True)\n",
    "        \n",
    "        print(\"\\n------Initializing PezzGen------\\n\")\n",
    "        \n",
    "        self.conv1 = nn.Conv2d(3, 12, kernel_size=3, stride=1,\n",
    "                              padding=1)\n",
    "        self.BNorm1 = nn.BatchNorm2d(12)\n",
    "        self.actFun = nn.ReLU()\n",
    "        self.pool1 = nn.MaxPool2d(2,2)\n",
    "        \n",
    "        self.bridge = nn.Conv2d(12, 36, kernel_size=5,stride=1,\n",
    "                                padding=2)\n",
    "        self.BNorm2 = nn.BatchNorm2d(36)\n",
    "        \n",
    "        self.inv1 = nn.ConvTranspose2d(36, 12, kernel_size=5,stride=2,\n",
    "                                padding=2, output_padding=1)\n",
    "        self.BNorm3 = nn.BatchNorm2d(12)\n",
    "        self.actFun = nn.ReLU()\n",
    "        self.up1 = nn.Conv2d(12, 3, kernel_size=3, stride=1,\n",
    "                              padding=1)\n",
    "        self.BNorm4 = nn.BatchNorm2d(3)\n",
    "        self.tanh = nn.Tanh()\n",
    "        \n",
    "    def forward(self, x):\n",
    "        x = self.pool1(self.actFun(self.BNorm1(self.conv1(x))))\n",
    "        x = self.BNorm2(self.bridge(x))\n",
    "        x = self.actFun(self.BNorm3(self.inv1(x)))\n",
    "        x = self.BNorm4(self.up1(x))\n",
    "        x = self.tanh(x)\n",
    "        return x\n",
    "\n",
    "net = PezzGen()\n",
    "              "
   ]
  },
  {
   "cell_type": "code",
   "execution_count": 4,
   "metadata": {},
   "outputs": [
    {
     "name": "stderr",
     "output_type": "stream",
     "text": [
      "/anaconda3/lib/python3.7/site-packages/torchvision/transforms/transforms.py:207: UserWarning: The use of the transforms.Scale transform is deprecated, please use transforms.Resize instead.\n",
      "  warnings.warn(\"The use of the transforms.Scale transform is deprecated, \" +\n"
     ]
    }
   ],
   "source": [
    "# parameters\n",
    "batch_size = 50\n",
    "img_size = 256\n",
    "lr = 0.1\n",
    "epoch = 100\n",
    "\n",
    "# Generator\n",
    "device = torch.device(\"cuda:0\" if torch.cuda.is_available() else \"cpu\")\n",
    "generator = nn.DataParallel(net)\n",
    "\n",
    "img_dir = \"./maps/\"\n",
    "trainset = dset.ImageFolder(root=img_dir,\n",
    "                            transform = transforms.Compose([\n",
    "                            transforms.Scale(size=img_size),\n",
    "                            transforms.CenterCrop(size=(img_size,\n",
    "                            img_size*2)),\n",
    "                            transforms.ToTensor(),\n",
    "                            ]))\n",
    "trainloader = torch.utils.data.DataLoader(trainset, batch_size=4,\n",
    "                                          shuffle=True, \n",
    "                                          num_workers=2)\n",
    "\n",
    "recon_loss_func = nn.MSELoss()\n",
    "gen_optimizer = torch.optim.Adam(net.parameters(),lr=lr)\n",
    "\n",
    "\n"
   ]
  },
  {
   "cell_type": "code",
   "execution_count": 5,
   "metadata": {},
   "outputs": [
    {
     "name": "stdout",
     "output_type": "stream",
     "text": [
      "1/100\n",
      "batch: 14/549 [>                    ]\n",
      "Loss: 2.583e-05   Accuracy: 0.001429\n"
     ]
    },
    {
     "name": "stderr",
     "output_type": "stream",
     "text": [
      "Traceback (most recent call last):\n",
      "Traceback (most recent call last):\n",
      "  File \"/anaconda3/lib/python3.7/multiprocessing/queues.py\", line 242, in _feed\n",
      "    send_bytes(obj)\n",
      "  File \"/anaconda3/lib/python3.7/multiprocessing/connection.py\", line 200, in send_bytes\n",
      "    self._send_bytes(m[offset:offset + size])\n",
      "  File \"/anaconda3/lib/python3.7/multiprocessing/connection.py\", line 404, in _send_bytes\n",
      "    self._send(header + buf)\n",
      "  File \"/anaconda3/lib/python3.7/multiprocessing/connection.py\", line 368, in _send\n",
      "    n = write(self._handle, buf)\n",
      "BrokenPipeError: [Errno 32] Broken pipe\n",
      "  File \"/anaconda3/lib/python3.7/multiprocessing/queues.py\", line 242, in _feed\n",
      "    send_bytes(obj)\n",
      "  File \"/anaconda3/lib/python3.7/multiprocessing/connection.py\", line 200, in send_bytes\n",
      "    self._send_bytes(m[offset:offset + size])\n",
      "  File \"/anaconda3/lib/python3.7/multiprocessing/connection.py\", line 404, in _send_bytes\n",
      "    self._send(header + buf)\n",
      "  File \"/anaconda3/lib/python3.7/multiprocessing/connection.py\", line 368, in _send\n",
      "    n = write(self._handle, buf)\n",
      "BrokenPipeError: [Errno 32] Broken pipe\n"
     ]
    },
    {
     "ename": "KeyboardInterrupt",
     "evalue": "",
     "output_type": "error",
     "traceback": [
      "\u001b[0;31m---------------------------------------------------------------------------\u001b[0m",
      "\u001b[0;31mKeyboardInterrupt\u001b[0m                         Traceback (most recent call last)",
      "\u001b[0;32m<ipython-input-5-0449df35a9b0>\u001b[0m in \u001b[0;36m<module>\u001b[0;34m\u001b[0m\n\u001b[1;32m     22\u001b[0m \u001b[0;34m\u001b[0m\u001b[0m\n\u001b[1;32m     23\u001b[0m         \u001b[0mcurrent_loss\u001b[0m \u001b[0;34m=\u001b[0m \u001b[0mrecon_loss_func\u001b[0m\u001b[0;34m(\u001b[0m\u001b[0my\u001b[0m\u001b[0;34m,\u001b[0m\u001b[0my_\u001b[0m\u001b[0;34m)\u001b[0m\u001b[0;34m\u001b[0m\u001b[0;34m\u001b[0m\u001b[0m\n\u001b[0;32m---> 24\u001b[0;31m         \u001b[0mcurrent_loss\u001b[0m\u001b[0;34m.\u001b[0m\u001b[0mbackward\u001b[0m\u001b[0;34m(\u001b[0m\u001b[0;34m)\u001b[0m\u001b[0;34m\u001b[0m\u001b[0;34m\u001b[0m\u001b[0m\n\u001b[0m\u001b[1;32m     25\u001b[0m         \u001b[0mgen_optimizer\u001b[0m\u001b[0;34m.\u001b[0m\u001b[0mstep\u001b[0m\u001b[0;34m(\u001b[0m\u001b[0;34m)\u001b[0m\u001b[0;34m\u001b[0m\u001b[0;34m\u001b[0m\u001b[0m\n\u001b[1;32m     26\u001b[0m         \u001b[0mcurrent_acc\u001b[0m \u001b[0;34m=\u001b[0m \u001b[0mnp\u001b[0m\u001b[0;34m.\u001b[0m\u001b[0marray\u001b[0m\u001b[0;34m(\u001b[0m\u001b[0;36m1\u001b[0m\u001b[0;34m)\u001b[0m\u001b[0;34m\u001b[0m\u001b[0;34m\u001b[0m\u001b[0m\n",
      "\u001b[0;32m/anaconda3/lib/python3.7/site-packages/torch/tensor.py\u001b[0m in \u001b[0;36mbackward\u001b[0;34m(self, gradient, retain_graph, create_graph)\u001b[0m\n\u001b[1;32m    100\u001b[0m                 \u001b[0mproducts\u001b[0m\u001b[0;34m.\u001b[0m \u001b[0mDefaults\u001b[0m \u001b[0mto\u001b[0m\u001b[0;31m \u001b[0m\u001b[0;31m`\u001b[0m\u001b[0;31m`\u001b[0m\u001b[0;32mFalse\u001b[0m\u001b[0;31m`\u001b[0m\u001b[0;31m`\u001b[0m\u001b[0;34m.\u001b[0m\u001b[0;34m\u001b[0m\u001b[0;34m\u001b[0m\u001b[0m\n\u001b[1;32m    101\u001b[0m         \"\"\"\n\u001b[0;32m--> 102\u001b[0;31m         \u001b[0mtorch\u001b[0m\u001b[0;34m.\u001b[0m\u001b[0mautograd\u001b[0m\u001b[0;34m.\u001b[0m\u001b[0mbackward\u001b[0m\u001b[0;34m(\u001b[0m\u001b[0mself\u001b[0m\u001b[0;34m,\u001b[0m \u001b[0mgradient\u001b[0m\u001b[0;34m,\u001b[0m \u001b[0mretain_graph\u001b[0m\u001b[0;34m,\u001b[0m \u001b[0mcreate_graph\u001b[0m\u001b[0;34m)\u001b[0m\u001b[0;34m\u001b[0m\u001b[0;34m\u001b[0m\u001b[0m\n\u001b[0m\u001b[1;32m    103\u001b[0m \u001b[0;34m\u001b[0m\u001b[0m\n\u001b[1;32m    104\u001b[0m     \u001b[0;32mdef\u001b[0m \u001b[0mregister_hook\u001b[0m\u001b[0;34m(\u001b[0m\u001b[0mself\u001b[0m\u001b[0;34m,\u001b[0m \u001b[0mhook\u001b[0m\u001b[0;34m)\u001b[0m\u001b[0;34m:\u001b[0m\u001b[0;34m\u001b[0m\u001b[0;34m\u001b[0m\u001b[0m\n",
      "\u001b[0;32m/anaconda3/lib/python3.7/site-packages/torch/autograd/__init__.py\u001b[0m in \u001b[0;36mbackward\u001b[0;34m(tensors, grad_tensors, retain_graph, create_graph, grad_variables)\u001b[0m\n\u001b[1;32m     88\u001b[0m     Variable._execution_engine.run_backward(\n\u001b[1;32m     89\u001b[0m         \u001b[0mtensors\u001b[0m\u001b[0;34m,\u001b[0m \u001b[0mgrad_tensors\u001b[0m\u001b[0;34m,\u001b[0m \u001b[0mretain_graph\u001b[0m\u001b[0;34m,\u001b[0m \u001b[0mcreate_graph\u001b[0m\u001b[0;34m,\u001b[0m\u001b[0;34m\u001b[0m\u001b[0;34m\u001b[0m\u001b[0m\n\u001b[0;32m---> 90\u001b[0;31m         allow_unreachable=True)  # allow_unreachable flag\n\u001b[0m\u001b[1;32m     91\u001b[0m \u001b[0;34m\u001b[0m\u001b[0m\n\u001b[1;32m     92\u001b[0m \u001b[0;34m\u001b[0m\u001b[0m\n",
      "\u001b[0;31mKeyboardInterrupt\u001b[0m: "
     ]
    }
   ],
   "source": [
    "for ep in range(epoch):\n",
    "    for i, (image, label) in enumerate(trainloader):\n",
    "        \n",
    "        satel_image, map_image = torch.chunk(image, chunks=2, dim=3)\n",
    "        \n",
    "        gen_optimizer.zero_grad()\n",
    "        \n",
    "        # print data\n",
    "        #im = im[0,:,:,:]\n",
    "        #print(image.shape)\n",
    "        #plt.imshow(np.transpose(im, (1, 2, 0)))\n",
    "        #plt.show()\n",
    "        #im = satel_image[0,:,:,:]\n",
    "        #plt.imshow(np.transpose(im, (1, 2, 0)))\n",
    "        #plt.show()\n",
    "        \n",
    "        #time.sleep(2)\n",
    "        \n",
    "        x = Variable(satel_image)\n",
    "        y_ = Variable(map_image)\n",
    "        y = generator.forward(x)\n",
    "        \n",
    "        current_loss = recon_loss_func(y,y_)\n",
    "        current_loss.backward()\n",
    "        gen_optimizer.step()\n",
    "        current_acc = np.array(1)\n",
    "        \n",
    "        # status\n",
    "        status(batch_size, ep+1 , epoch, i, current_loss,\n",
    "               current_acc, trainloader)\n",
    "        "
   ]
  },
  {
   "cell_type": "code",
   "execution_count": null,
   "metadata": {},
   "outputs": [],
   "source": []
  },
  {
   "cell_type": "code",
   "execution_count": null,
   "metadata": {},
   "outputs": [],
   "source": []
  },
  {
   "cell_type": "code",
   "execution_count": null,
   "metadata": {},
   "outputs": [],
   "source": []
  }
 ],
 "metadata": {
  "kernelspec": {
   "display_name": "Python 3",
   "language": "python",
   "name": "python3"
  },
  "language_info": {
   "codemirror_mode": {
    "name": "ipython",
    "version": 3
   },
   "file_extension": ".py",
   "mimetype": "text/x-python",
   "name": "python",
   "nbconvert_exporter": "python",
   "pygments_lexer": "ipython3",
   "version": "3.7.3"
  }
 },
 "nbformat": 4,
 "nbformat_minor": 2
}
