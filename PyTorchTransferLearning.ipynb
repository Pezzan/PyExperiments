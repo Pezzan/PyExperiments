{
 "cells": [
  {
   "cell_type": "code",
   "execution_count": 1,
   "metadata": {},
   "outputs": [],
   "source": [
    "import torch\n",
    "import torch.nn as nn\n",
    "import torch.optim as optim\n",
    "import torchvision\n",
    "from torchvision import models, transforms\n",
    "import time\n",
    "from IPython.display import display, clear_output\n",
    "import pdb "
   ]
  },
  {
   "cell_type": "code",
   "execution_count": 2,
   "metadata": {},
   "outputs": [],
   "source": [
    "batch_size = 50"
   ]
  },
  {
   "cell_type": "code",
   "execution_count": 3,
   "metadata": {},
   "outputs": [
    {
     "name": "stdout",
     "output_type": "stream",
     "text": [
      "Using downloaded and verified file: ./data/cifar-10-python.tar.gz\n"
     ]
    }
   ],
   "source": [
    "chan_mean = [0.485, 0.456, 0.406]\n",
    "chan_std = [0.229, 0.224, 0.225]\n",
    "\n",
    "# training data\n",
    "train_data_transform = transforms.Compose([\n",
    "    transforms.Resize(224),\n",
    "    transforms.RandomHorizontalFlip(),\n",
    "    transforms.RandomVerticalFlip(),\n",
    "    transforms.ToTensor(),\n",
    "    transforms.Normalize(chan_mean, chan_std)\n",
    "])\n",
    "\n",
    "train_set = torchvision.datasets.CIFAR10(root='./data',\n",
    "                                        train=True,\n",
    "                                        download=True,\n",
    "                                        transform=train_data_transform)\n",
    "train_loader = torch.utils.data.DataLoader(train_set,\n",
    "                                          batch_size=batch_size,\n",
    "                                          shuffle=True,\n",
    "                                          num_workers=2)"
   ]
  },
  {
   "cell_type": "code",
   "execution_count": 4,
   "metadata": {},
   "outputs": [
    {
     "name": "stdout",
     "output_type": "stream",
     "text": [
      "Files already downloaded and verified\n"
     ]
    }
   ],
   "source": [
    "val_data_transform = transforms.Compose([\n",
    "    transforms.Resize(224),\n",
    "    transforms.ToTensor(),\n",
    "    transforms.Normalize(chan_mean, chan_std)\n",
    "])\n",
    "\n",
    "val_set = torchvision.datasets.CIFAR10(root='./data',\n",
    "                                       train=False,\n",
    "                                       download=True,\n",
    "                                       transform=train_data_transform)\n",
    "val_order = torch.utils.data.DataLoader(val_set,\n",
    "                                        batch_size=batch_size,\n",
    "                                        shuffle=False,\n",
    "                                        num_workers=2)"
   ]
  },
  {
   "cell_type": "code",
   "execution_count": 5,
   "metadata": {},
   "outputs": [],
   "source": [
    "device = torch.device(\"cuda:0\" if torch.cuda.is_available() else \"cpu\")"
   ]
  },
  {
   "cell_type": "code",
   "execution_count": 6,
   "metadata": {},
   "outputs": [],
   "source": [
    "def train_model(model, loss_function, optimizer, data_loader, epochs):\n",
    "    model.train()\n",
    "    \n",
    "    current_loss = 0.0\n",
    "    current_acc = 0\n",
    "    \n",
    "    # iterate over training data\n",
    "    for i, (inputs, labels) in enumerate(data_loader):\n",
    "        inputs = inputs.to(device)\n",
    "        labels = labels.to(device)\n",
    "        \n",
    "        # status\n",
    "        clear_output(wait=True)\n",
    "        \n",
    "        \n",
    "        \n",
    "        # zero the parameter gradients\n",
    "        optimizer.zero_grad()\n",
    "        \n",
    "        with torch.set_grad_enabled(True):\n",
    "            # forward\n",
    "            outputs = model(inputs)\n",
    "            _, predictions = torch.max(outputs,1)\n",
    "            loss = loss_function(outputs, labels)\n",
    "            \n",
    "            # backward\n",
    "            loss.backward()\n",
    "            optimizer.step()\n",
    "            \n",
    "        # statistics\n",
    "        current_loss += loss.item() * inputs.size(0)\n",
    "        current_acc += torch.sum(predictions == labels.data)\n",
    "        \n",
    "        print(str(epochs[0]) + '/' + str(epochs[1]))\n",
    "        print('batch: ' + str(i+1) + '/' + str(len(data_loader)) + \n",
    "             ' [' + '='*int((i+1)/(len(data_loader)/20)) +\n",
    "              '>' + ' '*(20 - int((i+1)/(len(data_loader)/20))) +\n",
    "              ']')\n",
    "        print('Loss: %.4g   Accuracy: %.4g' % ((current_loss / ((i+1)*batch_size)),\n",
    "                                               (current_acc.double() / ((i+1)*batch_size))))\n",
    "         \n",
    "    total_loss = current_loss / len(data_loader.dataset)\n",
    "    total_acc = current_acc.double() / len(data_loader.dataset)\n",
    "    \n",
    "    print('Train Loss: {:.4f}; Accuracy: {:.4f}'.format(total_loss,total_acc))"
   ]
  },
  {
   "cell_type": "code",
   "execution_count": 7,
   "metadata": {},
   "outputs": [],
   "source": [
    "def test_model(model, loss_function, data_loader):\n",
    "    model.eval()\n",
    "    \n",
    "    current_loss = 0.0\n",
    "    current_acc = 0\n",
    "    \n",
    "    # iterate over validation data\n",
    "    for i, (inputs, labels) in enumerate(data_loader):\n",
    "        inputs = inputs.to(device)\n",
    "        labels = labels.to(device)\n",
    "        \n",
    "        with torch.set_grad_enabled(False): #invece che True\n",
    "            # forward\n",
    "            outputs = model(inputs)\n",
    "            _, predictions = torch.max(outputs,1)\n",
    "            loss = loss_function(outputs, labels)\n",
    "            \n",
    "        # statistics\n",
    "        current_loss += loss.item() * inputs.size(0)\n",
    "        current_acc += torch.sum(predictions == labels.data)\n",
    "        \n",
    "    total_loss = current_loss / len(data_loader.dataset)\n",
    "    total_acc = current_acc.double() / len(data_loader.dataset)\n",
    "    \n",
    "    print('Test Loss: {:.4f}; Accuracy: {:.4f}'.format(total_loss,total_acc))"
   ]
  },
  {
   "cell_type": "code",
   "execution_count": 8,
   "metadata": {},
   "outputs": [],
   "source": [
    "def tl_feature_extractor(epochs=3):\n",
    "    model = torchvision.models.resnet18(pretrained=True)\n",
    "    \n",
    "    # exclude existing param from backward pass \n",
    "    for param in model.parameters():\n",
    "        param.requires_grad = False\n",
    "        \n",
    "    num_features = model.fc.in_features\n",
    "    model.fc = nn.Linear(num_features, 10)\n",
    "    \n",
    "    model = model.to(device)\n",
    "    \n",
    "    loss_function = nn.CrossEntropyLoss()\n",
    "    \n",
    "    # optimize only param of the last layer\n",
    "    optimizer = optim.Adam(model.fc.parameters())\n",
    "    \n",
    "    # train\n",
    "    for epoch in range(epochs):\n",
    "        #print('Epoch {}/{}'. format(epoch+1, epochs))\n",
    "        \n",
    "        train_model(model, loss_function, optimizer, train_loader,\n",
    "                   [epoch+1, epochs])\n",
    "        test_model(model, loss_function, val_order)"
   ]
  },
  {
   "cell_type": "code",
   "execution_count": 9,
   "metadata": {},
   "outputs": [],
   "source": [
    "def tl_fine_tuning(epochs=3):\n",
    "    model = models.resnet18(pretrained=True)\n",
    "    \n",
    "    # replace last layer    \n",
    "    num_features = model.fc.in_features\n",
    "    model.fc = nn.Linear(num_features, 10)\n",
    "    \n",
    "    model = model.to(device)\n",
    "    \n",
    "    loss_function = nn.CrossEntropyLoss()\n",
    "    \n",
    "    # optimize only param of the last layer\n",
    "    optimizer = optim.Adam(model.parameters())\n",
    "    \n",
    "    # train\n",
    "    for epoch in range(epochs):\n",
    "        #print('Epoch {}/{}'. format(epoch+1, epochs))\n",
    "        \n",
    "        train_model(model, loss_function, optimizer, train_loader,\n",
    "                   [epoch+1, epochs])\n",
    "        test_model(model, loss_function, val_order)"
   ]
  },
  {
   "cell_type": "code",
   "execution_count": 10,
   "metadata": {},
   "outputs": [
    {
     "name": "stdout",
     "output_type": "stream",
     "text": [
      "Dataset CIFAR10\n",
      "    Number of datapoints: 50000\n",
      "    Split: train\n",
      "    Root Location: ./data\n",
      "    Transforms (if any): Compose(\n",
      "                             Resize(size=224, interpolation=PIL.Image.BILINEAR)\n",
      "                             RandomHorizontalFlip(p=0.5)\n",
      "                             RandomVerticalFlip(p=0.5)\n",
      "                             ToTensor()\n",
      "                             Normalize(mean=[0.485, 0.456, 0.406], std=[0.229, 0.224, 0.225])\n",
      "                         )\n",
      "    Target Transforms (if any): None\n"
     ]
    }
   ],
   "source": [
    "print(train_set)"
   ]
  },
  {
   "cell_type": "code",
   "execution_count": null,
   "metadata": {},
   "outputs": [
    {
     "name": "stdout",
     "output_type": "stream",
     "text": [
      "1/3\n",
      "batch: 4/1000 [>                    ]\n",
      "Loss: 2.484   Accuracy: 0.08\n"
     ]
    }
   ],
   "source": [
    "tl_feature_extractor()"
   ]
  }
 ],
 "metadata": {
  "kernelspec": {
   "display_name": "Python 3",
   "language": "python",
   "name": "python3"
  },
  "language_info": {
   "codemirror_mode": {
    "name": "ipython",
    "version": 3
   },
   "file_extension": ".py",
   "mimetype": "text/x-python",
   "name": "python",
   "nbconvert_exporter": "python",
   "pygments_lexer": "ipython3",
   "version": "3.7.3"
  }
 },
 "nbformat": 4,
 "nbformat_minor": 2
}
